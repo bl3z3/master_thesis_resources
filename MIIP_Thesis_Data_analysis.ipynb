{
  "nbformat": 4,
  "nbformat_minor": 0,
  "metadata": {
    "colab": {
      "name": "MIIP Thesis Data analysis.ipynb",
      "provenance": [],
      "collapsed_sections": [],
      "authorship_tag": "ABX9TyPu1uwTNHlDO7kqKedOJTlN",
      "include_colab_link": true
    },
    "kernelspec": {
      "name": "python3",
      "display_name": "Python 3"
    }
  },
  "cells": [
    {
      "cell_type": "markdown",
      "metadata": {
        "id": "view-in-github",
        "colab_type": "text"
      },
      "source": [
        "<a href=\"https://colab.research.google.com/github/bl3z3/master_thesis_resources/blob/master/MIIP_Thesis_Data_analysis.ipynb\" target=\"_parent\"><img src=\"https://colab.research.google.com/assets/colab-badge.svg\" alt=\"Open In Colab\"/></a>"
      ]
    },
    {
      "cell_type": "code",
      "metadata": {
        "id": "IUIbK5r8fpoY",
        "colab_type": "code",
        "colab": {}
      },
      "source": [
        " import pandas as pd\n",
        " import matplotlib.pyplot as plt\n",
        " import numpy as np\n",
        " import plotly\n",
        " import plotly.offline as py\n",
        " from IPython.display import Image, HTML"
      ],
      "execution_count": 35,
      "outputs": []
    },
    {
      "cell_type": "code",
      "metadata": {
        "id": "00MPTqqHp8V6",
        "colab_type": "code",
        "colab": {}
      },
      "source": [
        "df = pd.read_csv(\"data.csv\")"
      ],
      "execution_count": 36,
      "outputs": []
    },
    {
      "cell_type": "code",
      "metadata": {
        "id": "Rz9bKsa4uemS",
        "colab_type": "code",
        "colab": {
          "base_uri": "https://localhost:8080/",
          "height": 90
        },
        "outputId": "58e2b3b9-5220-49ab-f983-5adad48cfa20"
      },
      "source": [
        "df.columns"
      ],
      "execution_count": 37,
      "outputs": [
        {
          "output_type": "execute_result",
          "data": {
            "text/plain": [
              "Index(['CellID', 'Operation Type', 'OperationID', 'ProcessID', 'FailureID',\n",
              "       'Feature translated', 'Operator Number', 'Features', 'TraceabilityCode',\n",
              "       'Shift'],\n",
              "      dtype='object')"
            ]
          },
          "metadata": {
            "tags": []
          },
          "execution_count": 37
        }
      ]
    },
    {
      "cell_type": "markdown",
      "metadata": {
        "id": "nJkqtk2Rwnt_",
        "colab_type": "text"
      },
      "source": [
        "Rename columns"
      ]
    },
    {
      "cell_type": "code",
      "metadata": {
        "id": "_ZvV-3T5wmqJ",
        "colab_type": "code",
        "colab": {}
      },
      "source": [
        "df.rename(columns={'Operation Type': 'OperationType', 'Feature translated': 'Feature', 'Operator Number': 'Operator'}, inplace=True)"
      ],
      "execution_count": 38,
      "outputs": []
    },
    {
      "cell_type": "code",
      "metadata": {
        "id": "Uw_02P8KvVm3",
        "colab_type": "code",
        "colab": {
          "base_uri": "https://localhost:8080/",
          "height": 35
        },
        "outputId": "22645729-a977-4ab7-c590-899780ba01d6"
      },
      "source": [
        "df.shape"
      ],
      "execution_count": 39,
      "outputs": [
        {
          "output_type": "execute_result",
          "data": {
            "text/plain": [
              "(27014, 10)"
            ]
          },
          "metadata": {
            "tags": []
          },
          "execution_count": 39
        }
      ]
    },
    {
      "cell_type": "code",
      "metadata": {
        "id": "vY8abWzgjptj",
        "colab_type": "code",
        "colab": {
          "base_uri": "https://localhost:8080/",
          "height": 269
        },
        "outputId": "e77d3024-a85b-4d63-eae7-570a4b5eed83"
      },
      "source": [
        "df.corr()"
      ],
      "execution_count": 40,
      "outputs": [
        {
          "output_type": "execute_result",
          "data": {
            "text/html": [
              "<div>\n",
              "<style scoped>\n",
              "    .dataframe tbody tr th:only-of-type {\n",
              "        vertical-align: middle;\n",
              "    }\n",
              "\n",
              "    .dataframe tbody tr th {\n",
              "        vertical-align: top;\n",
              "    }\n",
              "\n",
              "    .dataframe thead th {\n",
              "        text-align: right;\n",
              "    }\n",
              "</style>\n",
              "<table border=\"1\" class=\"dataframe\">\n",
              "  <thead>\n",
              "    <tr style=\"text-align: right;\">\n",
              "      <th></th>\n",
              "      <th>CellID</th>\n",
              "      <th>OperationID</th>\n",
              "      <th>ProcessID</th>\n",
              "      <th>FailureID</th>\n",
              "      <th>Operator</th>\n",
              "      <th>Features</th>\n",
              "      <th>TraceabilityCode</th>\n",
              "    </tr>\n",
              "  </thead>\n",
              "  <tbody>\n",
              "    <tr>\n",
              "      <th>CellID</th>\n",
              "      <td>1.000000</td>\n",
              "      <td>0.995180</td>\n",
              "      <td>0.030590</td>\n",
              "      <td>-0.006297</td>\n",
              "      <td>-0.059196</td>\n",
              "      <td>-0.463435</td>\n",
              "      <td>0.034263</td>\n",
              "    </tr>\n",
              "    <tr>\n",
              "      <th>OperationID</th>\n",
              "      <td>0.995180</td>\n",
              "      <td>1.000000</td>\n",
              "      <td>0.030605</td>\n",
              "      <td>-0.006513</td>\n",
              "      <td>-0.059659</td>\n",
              "      <td>-0.491265</td>\n",
              "      <td>0.034686</td>\n",
              "    </tr>\n",
              "    <tr>\n",
              "      <th>ProcessID</th>\n",
              "      <td>0.030590</td>\n",
              "      <td>0.030605</td>\n",
              "      <td>1.000000</td>\n",
              "      <td>0.947687</td>\n",
              "      <td>-0.064801</td>\n",
              "      <td>-0.137529</td>\n",
              "      <td>0.992767</td>\n",
              "    </tr>\n",
              "    <tr>\n",
              "      <th>FailureID</th>\n",
              "      <td>-0.006297</td>\n",
              "      <td>-0.006513</td>\n",
              "      <td>0.947687</td>\n",
              "      <td>1.000000</td>\n",
              "      <td>-0.056081</td>\n",
              "      <td>-0.111690</td>\n",
              "      <td>0.917668</td>\n",
              "    </tr>\n",
              "    <tr>\n",
              "      <th>Operator</th>\n",
              "      <td>-0.059196</td>\n",
              "      <td>-0.059659</td>\n",
              "      <td>-0.064801</td>\n",
              "      <td>-0.056081</td>\n",
              "      <td>1.000000</td>\n",
              "      <td>0.013552</td>\n",
              "      <td>-0.062933</td>\n",
              "    </tr>\n",
              "    <tr>\n",
              "      <th>Features</th>\n",
              "      <td>-0.463435</td>\n",
              "      <td>-0.491265</td>\n",
              "      <td>-0.137529</td>\n",
              "      <td>-0.111690</td>\n",
              "      <td>0.013552</td>\n",
              "      <td>1.000000</td>\n",
              "      <td>-0.140046</td>\n",
              "    </tr>\n",
              "    <tr>\n",
              "      <th>TraceabilityCode</th>\n",
              "      <td>0.034263</td>\n",
              "      <td>0.034686</td>\n",
              "      <td>0.992767</td>\n",
              "      <td>0.917668</td>\n",
              "      <td>-0.062933</td>\n",
              "      <td>-0.140046</td>\n",
              "      <td>1.000000</td>\n",
              "    </tr>\n",
              "  </tbody>\n",
              "</table>\n",
              "</div>"
            ],
            "text/plain": [
              "                    CellID  OperationID  ...  Features  TraceabilityCode\n",
              "CellID            1.000000     0.995180  ... -0.463435          0.034263\n",
              "OperationID       0.995180     1.000000  ... -0.491265          0.034686\n",
              "ProcessID         0.030590     0.030605  ... -0.137529          0.992767\n",
              "FailureID        -0.006297    -0.006513  ... -0.111690          0.917668\n",
              "Operator         -0.059196    -0.059659  ...  0.013552         -0.062933\n",
              "Features         -0.463435    -0.491265  ...  1.000000         -0.140046\n",
              "TraceabilityCode  0.034263     0.034686  ... -0.140046          1.000000\n",
              "\n",
              "[7 rows x 7 columns]"
            ]
          },
          "metadata": {
            "tags": []
          },
          "execution_count": 40
        }
      ]
    },
    {
      "cell_type": "code",
      "metadata": {
        "id": "zPrtSO1syZ2a",
        "colab_type": "code",
        "colab": {
          "base_uri": "https://localhost:8080/",
          "height": 217
        },
        "outputId": "e05b0ecb-4f16-4d08-dd8f-8707460dff76"
      },
      "source": [
        "df.isna().sum()"
      ],
      "execution_count": 41,
      "outputs": [
        {
          "output_type": "execute_result",
          "data": {
            "text/plain": [
              "CellID                  0\n",
              "OperationType           0\n",
              "OperationID             0\n",
              "ProcessID               0\n",
              "FailureID               0\n",
              "Feature             25044\n",
              "Operator            24102\n",
              "Features                0\n",
              "TraceabilityCode        0\n",
              "Shift                   0\n",
              "dtype: int64"
            ]
          },
          "metadata": {
            "tags": []
          },
          "execution_count": 41
        }
      ]
    },
    {
      "cell_type": "code",
      "metadata": {
        "id": "ycd603C-3991",
        "colab_type": "code",
        "colab": {
          "base_uri": "https://localhost:8080/",
          "height": 235
        },
        "outputId": "64cb21b2-b45f-4510-f912-e0b50738e4e5"
      },
      "source": [
        "df[\"Feature\"].value_counts(normalize=True) * 100"
      ],
      "execution_count": 42,
      "outputs": [
        {
          "output_type": "execute_result",
          "data": {
            "text/plain": [
              "UNSTABLE                                  51.218274\n",
              "POROSITY                                  20.304569\n",
              "BURN THROUGH                              11.472081\n",
              "OFF SEAM                                   5.329949\n",
              "UNDERCUT                                   4.619289\n",
              "SHORT OR LONG LENGTH                       3.197970\n",
              "REWELDED BY ROBOT                          1.827411\n",
              "DEFORMED OR BADLY POSITIONED COMPONENT     1.015228\n",
              "CRACK                                      0.761421\n",
              "NOTCH                                      0.152284\n",
              "MISSING COMPONENT                          0.101523\n",
              "Name: Feature, dtype: float64"
            ]
          },
          "metadata": {
            "tags": []
          },
          "execution_count": 42
        }
      ]
    },
    {
      "cell_type": "code",
      "metadata": {
        "id": "-fTBi4X05yrR",
        "colab_type": "code",
        "colab": {
          "base_uri": "https://localhost:8080/",
          "height": 417
        },
        "outputId": "47bf1154-34ad-4103-9526-2cb1f2fb03db"
      },
      "source": [
        "df[\"Operator\"].value_counts(normalize=True) * 100"
      ],
      "execution_count": 43,
      "outputs": [
        {
          "output_type": "execute_result",
          "data": {
            "text/plain": [
              "83757.0    16.277473\n",
              "84562.0    13.186813\n",
              "84460.0    12.053571\n",
              "83634.0    11.984890\n",
              "83553.0    11.950549\n",
              "84947.0     9.958791\n",
              "84081.0     6.662088\n",
              "84842.0     4.189560\n",
              "84073.0     3.468407\n",
              "83481.0     2.472527\n",
              "84960.0     2.060440\n",
              "85166.0     1.820055\n",
              "83758.0     1.545330\n",
              "85024.0     0.789835\n",
              "84901.0     0.480769\n",
              "83651.0     0.446429\n",
              "83339.0     0.274725\n",
              "83793.0     0.240385\n",
              "84797.0     0.068681\n",
              "84079.0     0.034341\n",
              "84620.0     0.034341\n",
              "Name: Operator, dtype: float64"
            ]
          },
          "metadata": {
            "tags": []
          },
          "execution_count": 43
        }
      ]
    },
    {
      "cell_type": "code",
      "metadata": {
        "id": "SCW0I4lnqxjn",
        "colab_type": "code",
        "colab": {
          "base_uri": "https://localhost:8080/",
          "height": 90
        },
        "outputId": "acd47f15-76ed-4cdc-ebf9-797264db79f8"
      },
      "source": [
        "df[\"Shift\"].value_counts(normalize=True) * 100"
      ],
      "execution_count": 44,
      "outputs": [
        {
          "output_type": "execute_result",
          "data": {
            "text/plain": [
              "B    74.106019\n",
              "A    15.913971\n",
              "C     9.980010\n",
              "Name: Shift, dtype: float64"
            ]
          },
          "metadata": {
            "tags": []
          },
          "execution_count": 44
        }
      ]
    },
    {
      "cell_type": "markdown",
      "metadata": {
        "id": "dMW6HVoh7qsa",
        "colab_type": "text"
      },
      "source": [
        "Now we drop all columns with null value"
      ]
    },
    {
      "cell_type": "code",
      "metadata": {
        "id": "JmLxEl3W7uy0",
        "colab_type": "code",
        "colab": {}
      },
      "source": [
        "df = df.dropna(how='any',axis=0) "
      ],
      "execution_count": 45,
      "outputs": []
    },
    {
      "cell_type": "markdown",
      "metadata": {
        "id": "5Gl5dC0O7wat",
        "colab_type": "text"
      },
      "source": [
        "Check if the columns have been dropped successfully"
      ]
    },
    {
      "cell_type": "code",
      "metadata": {
        "id": "__QQ8kR673eq",
        "colab_type": "code",
        "colab": {
          "base_uri": "https://localhost:8080/",
          "height": 217
        },
        "outputId": "cd3514e5-f87d-41f4-e8b0-7a699a9596c3"
      },
      "source": [
        "df.isna().sum()"
      ],
      "execution_count": 46,
      "outputs": [
        {
          "output_type": "execute_result",
          "data": {
            "text/plain": [
              "CellID              0\n",
              "OperationType       0\n",
              "OperationID         0\n",
              "ProcessID           0\n",
              "FailureID           0\n",
              "Feature             0\n",
              "Operator            0\n",
              "Features            0\n",
              "TraceabilityCode    0\n",
              "Shift               0\n",
              "dtype: int64"
            ]
          },
          "metadata": {
            "tags": []
          },
          "execution_count": 46
        }
      ]
    },
    {
      "cell_type": "markdown",
      "metadata": {
        "id": "pTK9rs8PGWMS",
        "colab_type": "text"
      },
      "source": [
        "Data exploration"
      ]
    },
    {
      "cell_type": "code",
      "metadata": {
        "id": "zdrvq-OWGZnc",
        "colab_type": "code",
        "colab": {
          "base_uri": "https://localhost:8080/",
          "height": 329
        },
        "outputId": "bb2c34a8-fb09-46da-faf9-ea9bfa6abd1d"
      },
      "source": [
        "op_df = pd.DataFrame(df['OperationType'].value_counts()).reset_index()\n",
        "op_df.plot(kind='bar',x='index',y='OperationType')\n",
        "plt.show()"
      ],
      "execution_count": 47,
      "outputs": [
        {
          "output_type": "display_data",
          "data": {
            "image/png": "[encoded data removed]",
            "text/plain": [
              "<Figure size 432x288 with 1 Axes>"
            ]
          },
          "metadata": {
            "tags": [],
            "needs_background": "light"
          }
        }
      ]
    },
    {
      "cell_type": "code",
      "metadata": {
        "id": "kquhUAIi7ruJ",
        "colab_type": "code",
        "colab": {
          "base_uri": "https://localhost:8080/",
          "height": 126
        },
        "outputId": "18dcef1a-1b1c-4d71-a571-19aa270733fc"
      },
      "source": [
        "opTypeRanking = {'Operation A': 1, 'Operation B': 2}\n",
        "df.OperationType = df.OperationType.map(opTypeRanking)\n",
        "df.OperationType.head()"
      ],
      "execution_count": 48,
      "outputs": [
        {
          "output_type": "execute_result",
          "data": {
            "text/plain": [
              "0    1\n",
              "2    1\n",
              "3    1\n",
              "4    1\n",
              "5    1\n",
              "Name: OperationType, dtype: int64"
            ]
          },
          "metadata": {
            "tags": []
          },
          "execution_count": 48
        }
      ]
    },
    {
      "cell_type": "code",
      "metadata": {
        "id": "S2ViJf2jRrvP",
        "colab_type": "code",
        "colab": {
          "base_uri": "https://localhost:8080/",
          "height": 510
        },
        "outputId": "ec62e13d-a0a7-4337-d434-e004eb0a789b"
      },
      "source": [
        "feature_df = pd.DataFrame(df['Feature'].value_counts()).reset_index()\n",
        "feature_df.plot(kind='bar',x='index',y='Feature')\n",
        "plt.show()"
      ],
      "execution_count": 49,
      "outputs": [
        {
          "output_type": "display_data",
          "data": {
            "image/png": "[encoded data removed]",
            "text/plain": [
              "<Figure size 432x288 with 1 Axes>"
            ]
          },
          "metadata": {
            "tags": [],
            "needs_background": "light"
          }
        }
      ]
    },
    {
      "cell_type": "code",
      "metadata": {
        "id": "lgmGiTNm79VC",
        "colab_type": "code",
        "colab": {
          "base_uri": "https://localhost:8080/",
          "height": 217
        },
        "outputId": "2b0d5ddd-21de-40f3-beb6-75af1c3155bb"
      },
      "source": [
        "defectTypeRanking = {\n",
        "    \"UNSTABLE\": 1,\n",
        "    \"UNDERCUT\": 2,\n",
        "    \"SHORT OR LONG LENGTH\": 3,\n",
        "    \"REWELDED BY ROBOT\": 4,\n",
        "    \"POROSITY\": 5,\n",
        "    \"OFF SEAM\": 6,\n",
        "    \"NOTCH\": 7,\n",
        "    \"MISSING COMPONENT\": 8,\n",
        "    \"DEFORMED OR BADLY POSITIONED COMPONENT\": 9,\n",
        "    \"CRACK\": 10,\n",
        "    \"BURN THROUGH\": 11\n",
        "    }\n",
        "df.Feature = df.Feature.map(defectTypeRanking)\n",
        "df.Feature.head(10)"
      ],
      "execution_count": 50,
      "outputs": [
        {
          "output_type": "execute_result",
          "data": {
            "text/plain": [
              "0     1\n",
              "2     1\n",
              "3     1\n",
              "4     1\n",
              "5     1\n",
              "6     1\n",
              "7     1\n",
              "8     1\n",
              "15    1\n",
              "16    1\n",
              "Name: Feature, dtype: int64"
            ]
          },
          "metadata": {
            "tags": []
          },
          "execution_count": 50
        }
      ]
    },
    {
      "cell_type": "code",
      "metadata": {
        "id": "Jq6-p9MeTaue",
        "colab_type": "code",
        "colab": {
          "base_uri": "https://localhost:8080/",
          "height": 311
        },
        "outputId": "742c9c49-2e64-4be5-cc3d-9b934f55b497"
      },
      "source": [
        "operator_df = pd.DataFrame(df['Operator'].value_counts()).reset_index()\n",
        "operator_df.plot(kind='bar',x='index',y='Operator')\n",
        "plt.show()"
      ],
      "execution_count": 51,
      "outputs": [
        {
          "output_type": "display_data",
          "data": {
            "image/png": "[encoded data removed]",
            "text/plain": [
              "<Figure size 432x288 with 1 Axes>"
            ]
          },
          "metadata": {
            "tags": [],
            "needs_background": "light"
          }
        }
      ]
    },
    {
      "cell_type": "code",
      "metadata": {
        "id": "6MDpMHS2VrQY",
        "colab_type": "code",
        "colab": {
          "base_uri": "https://localhost:8080/",
          "height": 297
        },
        "outputId": "8b960cdd-5446-4e7f-d3af-40786edb0231"
      },
      "source": [
        "import seaborn as sns\n",
        "sns.distplot(df['Operator'].fillna(df['Operator'].median()))"
      ],
      "execution_count": 52,
      "outputs": [
        {
          "output_type": "execute_result",
          "data": {
            "text/plain": [
              "<matplotlib.axes._subplots.AxesSubplot at 0x7eff65331ef0>"
            ]
          },
          "metadata": {
            "tags": []
          },
          "execution_count": 52
        },
        {
          "output_type": "display_data",
          "data": {
            "image/png": "[encoded data removed]",
            "text/plain": [
              "<Figure size 432x288 with 1 Axes>"
            ]
          },
          "metadata": {
            "tags": [],
            "needs_background": "light"
          }
        }
      ]
    },
    {
      "cell_type": "markdown",
      "metadata": {
        "id": "QWlKzS31uAQq",
        "colab_type": "text"
      },
      "source": [
        "Shift distribution of data"
      ]
    },
    {
      "cell_type": "code",
      "metadata": {
        "id": "ZJSOTKbotkAS",
        "colab_type": "code",
        "colab": {
          "base_uri": "https://localhost:8080/",
          "height": 276
        },
        "outputId": "5f9b862a-d3ad-4250-a490-0c39e9a82efb"
      },
      "source": [
        "operator_df = pd.DataFrame(df['Shift'].value_counts()).reset_index()\n",
        "operator_df.plot(kind='bar',x='index',y='Shift')\n",
        "plt.show()"
      ],
      "execution_count": 53,
      "outputs": [
        {
          "output_type": "display_data",
          "data": {
            "image/png": "[encoded data removed]",
            "text/plain": [
              "<Figure size 432x288 with 1 Axes>"
            ]
          },
          "metadata": {
            "tags": [],
            "needs_background": "light"
          }
        }
      ]
    },
    {
      "cell_type": "code",
      "metadata": {
        "id": "aKUB3zrkuPlm",
        "colab_type": "code",
        "colab": {
          "base_uri": "https://localhost:8080/",
          "height": 297
        },
        "outputId": "6c42b375-20e1-40d5-ee2b-d3cbd0a00bcb"
      },
      "source": [
        "import seaborn as sns\n",
        "shift_mapping = {\"A\": 1, \"B\": 2, \"C\": 3}\n",
        "df.Shift = df.Shift.map(shift_mapping)\n",
        "sns.distplot(df['Shift'].fillna(df['Shift'].median()))"
      ],
      "execution_count": 54,
      "outputs": [
        {
          "output_type": "execute_result",
          "data": {
            "text/plain": [
              "<matplotlib.axes._subplots.AxesSubplot at 0x7eff653e7cc0>"
            ]
          },
          "metadata": {
            "tags": []
          },
          "execution_count": 54
        },
        {
          "output_type": "display_data",
          "data": {
            "image/png": "[encoded data removed]",
            "text/plain": [
              "<Figure size 432x288 with 1 Axes>"
            ]
          },
          "metadata": {
            "tags": [],
            "needs_background": "light"
          }
        }
      ]
    },
    {
      "cell_type": "markdown",
      "metadata": {
        "id": "tw2ChnRJciJo",
        "colab_type": "text"
      },
      "source": [
        "Correlation search"
      ]
    },
    {
      "cell_type": "code",
      "metadata": {
        "id": "CnrmuqM7cmIT",
        "colab_type": "code",
        "colab": {
          "base_uri": "https://localhost:8080/",
          "height": 505
        },
        "outputId": "38127a0e-371b-4b6d-e34b-924ee9822a7a"
      },
      "source": [
        "%matplotlib inline\n",
        "\n",
        "f,ax = plt.subplots(figsize=(7, 7))\n",
        "sns.heatmap(df.corr(), annot=True, linewidths=.5, fmt= '.2f',ax=ax, cmap=\"YlGnBu\")\n",
        "plt.yticks(rotation=0)\n",
        "plt.show()"
      ],
      "execution_count": 55,
      "outputs": [
        {
          "output_type": "display_data",
          "data": {
            "image/png": "[encoded data removed]",
            "text/plain": [
              "<Figure size 504x504 with 2 Axes>"
            ]
          },
          "metadata": {
            "tags": [],
            "needs_background": "light"
          }
        }
      ]
    },
    {
      "cell_type": "code",
      "metadata": {
        "id": "dv5hfSEFaiZK",
        "colab_type": "code",
        "colab": {
          "base_uri": "https://localhost:8080/",
          "height": 217
        },
        "outputId": "a5dece66-10d3-4c0e-cc87-63a7f6119eab"
      },
      "source": [
        "df.dtypes"
      ],
      "execution_count": 56,
      "outputs": [
        {
          "output_type": "execute_result",
          "data": {
            "text/plain": [
              "CellID                int64\n",
              "OperationType         int64\n",
              "OperationID           int64\n",
              "ProcessID             int64\n",
              "FailureID             int64\n",
              "Feature               int64\n",
              "Operator            float64\n",
              "Features              int64\n",
              "TraceabilityCode      int64\n",
              "Shift                 int64\n",
              "dtype: object"
            ]
          },
          "metadata": {
            "tags": []
          },
          "execution_count": 56
        }
      ]
    },
    {
      "cell_type": "code",
      "metadata": {
        "id": "kJP_tPzGbpJ-",
        "colab_type": "code",
        "colab": {
          "base_uri": "https://localhost:8080/",
          "height": 217
        },
        "outputId": "2a017366-1fa1-42b2-acb8-17ad4241a41d"
      },
      "source": [
        "df.sum().isna()"
      ],
      "execution_count": 57,
      "outputs": [
        {
          "output_type": "execute_result",
          "data": {
            "text/plain": [
              "CellID              False\n",
              "OperationType       False\n",
              "OperationID         False\n",
              "ProcessID           False\n",
              "FailureID           False\n",
              "Feature             False\n",
              "Operator            False\n",
              "Features            False\n",
              "TraceabilityCode    False\n",
              "Shift               False\n",
              "dtype: bool"
            ]
          },
          "metadata": {
            "tags": []
          },
          "execution_count": 57
        }
      ]
    },
    {
      "cell_type": "markdown",
      "metadata": {
        "id": "NlZglflnc4Rc",
        "colab_type": "text"
      },
      "source": [
        "Linear regression modelling"
      ]
    },
    {
      "cell_type": "code",
      "metadata": {
        "id": "4mKVHtbrc6iC",
        "colab_type": "code",
        "colab": {
          "base_uri": "https://localhost:8080/",
          "height": 35
        },
        "outputId": "0d9051fd-04ce-48b9-8aec-582ab53e0c56"
      },
      "source": [
        "import seaborn as sns\n",
        "from sklearn.linear_model import LinearRegression\n",
        "from sklearn.model_selection import train_test_split\n",
        "from sklearn.metrics import mean_absolute_error\n",
        "\n",
        "train, test, obj_train, obj_test = train_test_split(df.copy(), df.Feature, random_state=0)\n",
        "\n",
        "train.shape, test.shape"
      ],
      "execution_count": 106,
      "outputs": [
        {
          "output_type": "execute_result",
          "data": {
            "text/plain": [
              "((816, 10), (273, 10))"
            ]
          },
          "metadata": {
            "tags": []
          },
          "execution_count": 106
        }
      ]
    },
    {
      "cell_type": "code",
      "metadata": {
        "id": "kbDHapP_d_dG",
        "colab_type": "code",
        "colab": {
          "base_uri": "https://localhost:8080/",
          "height": 35
        },
        "outputId": "0bade26d-0032-4d38-90ea-ee07350a84fb"
      },
      "source": [
        "features = ['CellID', 'OperationType', 'OperationID', 'ProcessID', 'FailureID',\n",
        "       'Feature', 'Operator', 'Features', 'TraceabilityCode',\n",
        "       'Shift']\n",
        "target = ['Feature']\n",
        "model = LinearRegression()\n",
        "model.fit(train[features],train[target])\n"
      ],
      "execution_count": 123,
      "outputs": [
        {
          "output_type": "execute_result",
          "data": {
            "text/plain": [
              "LinearRegression(copy_X=True, fit_intercept=True, n_jobs=None, normalize=False)"
            ]
          },
          "metadata": {
            "tags": []
          },
          "execution_count": 123
        }
      ]
    },
    {
      "cell_type": "markdown",
      "metadata": {
        "id": "GwMyQfLdhKct",
        "colab_type": "text"
      },
      "source": [
        "Evaluation"
      ]
    },
    {
      "cell_type": "code",
      "metadata": {
        "id": "idior4yCfuV0",
        "colab_type": "code",
        "colab": {
          "base_uri": "https://localhost:8080/",
          "height": 199
        },
        "outputId": "25720468-70ed-4419-897e-7725b372c5a8"
      },
      "source": [
        "target_pred_multiple = model.predict(test)\n",
        "# sample predictions\n",
        "print(target_pred_multiple[0:10])"
      ],
      "execution_count": 124,
      "outputs": [
        {
          "output_type": "stream",
          "text": [
            "[[ 5.]\n",
            " [ 2.]\n",
            " [ 1.]\n",
            " [ 1.]\n",
            " [ 1.]\n",
            " [ 1.]\n",
            " [ 1.]\n",
            " [ 5.]\n",
            " [ 1.]\n",
            " [11.]]\n"
          ],
          "name": "stdout"
        }
      ]
    },
    {
      "cell_type": "code",
      "metadata": {
        "id": "-CQYVgoogvJ-",
        "colab_type": "code",
        "colab": {
          "base_uri": "https://localhost:8080/",
          "height": 90
        },
        "outputId": "33ca2899-93a2-4d6a-e766-738d3c109fc7"
      },
      "source": [
        "model.coef_\n"
      ],
      "execution_count": 125,
      "outputs": [
        {
          "output_type": "execute_result",
          "data": {
            "text/plain": [
              "array([[ 7.07857447e-15, -4.59788457e-15, -1.56610293e-15,\n",
              "        -8.67361738e-19,  6.31547765e-18,  1.00000000e+00,\n",
              "         7.30481214e-17,  6.72650039e-17,  7.04731412e-18,\n",
              "        -1.75292449e-16]])"
            ]
          },
          "metadata": {
            "tags": []
          },
          "execution_count": 125
        }
      ]
    },
    {
      "cell_type": "code",
      "metadata": {
        "id": "SJM4G7lZfsRy",
        "colab_type": "code",
        "colab": {
          "base_uri": "https://localhost:8080/",
          "height": 72
        },
        "outputId": "460906f2-141a-4fd5-d875-f5e14111a157"
      },
      "source": [
        "print(\"\\n\\n\"+'Intersecting value: ' + str(model.intercept_))"
      ],
      "execution_count": 126,
      "outputs": [
        {
          "output_type": "stream",
          "text": [
            "\n",
            "\n",
            "Intersecting value: [3.58113539e-12]\n"
          ],
          "name": "stdout"
        }
      ]
    },
    {
      "cell_type": "code",
      "metadata": {
        "id": "e-YnRosofwFe",
        "colab_type": "code",
        "colab": {
          "base_uri": "https://localhost:8080/",
          "height": 53
        },
        "outputId": "67db58c2-21f3-45cf-dc46-cd541079a0b3"
      },
      "source": [
        "print('Model precision:')\n",
        "model.score(train, obj_train)"
      ],
      "execution_count": 127,
      "outputs": [
        {
          "output_type": "stream",
          "text": [
            "Model precision:\n"
          ],
          "name": "stdout"
        },
        {
          "output_type": "execute_result",
          "data": {
            "text/plain": [
              "1.0"
            ]
          },
          "metadata": {
            "tags": []
          },
          "execution_count": 127
        }
      ]
    }
  ]
}